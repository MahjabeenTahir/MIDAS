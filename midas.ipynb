{
  "nbformat": 4,
  "nbformat_minor": 0,
  "metadata": {
    "colab": {
      "provenance": [],
      "authorship_tag": "ABX9TyP1eudeY3zYUV7lnxAb4urC",
      "include_colab_link": true
    },
    "kernelspec": {
      "name": "python3",
      "display_name": "Python 3"
    },
    "language_info": {
      "name": "python"
    }
  },
  "cells": [
    {
      "cell_type": "markdown",
      "metadata": {
        "id": "view-in-github",
        "colab_type": "text"
      },
      "source": [
        "<a href=\"https://colab.research.google.com/github/MahjabeenTahir/MIDAS/blob/master/midas.ipynb\" target=\"_parent\"><img src=\"https://colab.research.google.com/assets/colab-badge.svg\" alt=\"Open In Colab\"/></a>"
      ]
    },
    {
      "cell_type": "code",
      "source": [
        "from google.colab import drive\n",
        "drive.mount('/content/drive')"
      ],
      "metadata": {
        "colab": {
          "base_uri": "https://localhost:8080/"
        },
        "id": "LIkp1zXFYmwr",
        "outputId": "145fa113-f427-4f18-eebd-b526ac654821"
      },
      "execution_count": 1,
      "outputs": [
        {
          "output_type": "stream",
          "name": "stdout",
          "text": [
            "Mounted at /content/drive\n"
          ]
        }
      ]
    },
    {
      "cell_type": "code",
      "execution_count": 8,
      "metadata": {
        "id": "5HmUiZBxYfIk"
      },
      "outputs": [],
      "source": [
        "import sys\n",
        "sys.path.append('/content/drive/MyDrive/thesis/pyMIDAS/')"
      ]
    },
    {
      "cell_type": "code",
      "execution_count": 9,
      "metadata": {
        "id": "TQ6W4wUlYfIm"
      },
      "outputs": [],
      "source": [
        "from midas import midas\n",
        "import pandas as pd\n",
        "import numpy as np"
      ]
    },
    {
      "cell_type": "code",
      "source": [
        "data = pd.read_csv(\"/content/drive/MyDrive/thesis/pyMIDAS/UNSW-NB15_1.csv\", names=['src', 'dst', 'timestamp'])\n"
      ],
      "metadata": {
        "colab": {
          "base_uri": "https://localhost:8080/"
        },
        "id": "PZDzErlUDsc7",
        "outputId": "6cdb19ec-42d0-4fb9-d3ae-fe7e34277638"
      },
      "execution_count": 11,
      "outputs": [
        {
          "output_type": "stream",
          "name": "stderr",
          "text": [
            "/usr/local/lib/python3.7/dist-packages/IPython/core/interactiveshell.py:3326: DtypeWarning: Columns (1,3,47) have mixed types.Specify dtype option on import or set low_memory=False.\n",
            "  exec(code_obj, self.user_global_ns, self.user_ns)\n"
          ]
        }
      ]
    },
    {
      "cell_type": "code",
      "source": [
        "from midas.anom import midas, midasR"
      ],
      "metadata": {
        "id": "QIU1W2_18Hgj"
      },
      "execution_count": 12,
      "outputs": []
    },
    {
      "cell_type": "code",
      "source": [
        "import math\n",
        "\n",
        "import numpy as np\n",
        "from tqdm import tqdm\n",
        "\n",
        "from midas.edgehash import Edgehash\n",
        "from midas.nodehash import Nodehash\n",
        "\n",
        "__all__ = [\n",
        "    'midas',\n",
        "    'midasR',\n",
        "]\n",
        "\n",
        "def counts_to_anom(tot, cur, cur_t):\n",
        "    cur_mean = tot / cur_t\n",
        "    sqerr = np.power(max(0, cur - cur_mean), 2)\n",
        "    return sqerr / cur_mean + sqerr / (cur_mean * max(1, cur_t - 1))\n",
        "\n",
        "def getRowInfo(row, anom_score,cur_count,total_count,cur_t):\n",
        "    cur_src = int(row[\"src\"]) \n",
        "    cur_dst = int(row[\"dst\"])\n",
        "    cur_count.insert(cur_src, cur_dst, 1)\n",
        "    total_count.insert(cur_src, cur_dst, 1)\n",
        "    cur_mean = total_count.get_count(cur_src, cur_dst) / cur_t\n",
        "    sqerr = np.power(cur_count.get_count(cur_src, cur_dst) - cur_mean, 2)\n",
        "    cur_score = 0 if cur_t == 1 else sqerr / cur_mean + sqerr / (cur_mean * (cur_t - 1))\n",
        "    cur_score = 0 if math.isnan(cur_score) else cur_score\n",
        "    anom_score.append(cur_score)\n",
        "\n",
        "def midas(df, num_rows, num_buckets):\n",
        "    m = df.src.max()\n",
        "    cur_count = Edgehash(num_rows, num_buckets, m)\n",
        "    total_count = Edgehash(num_rows, num_buckets, m)\n",
        "    anom_score = []\n",
        "    \n",
        "    time_df = df.groupby([\"timestamp\"])\n",
        "    timestamp_keys =  time_df.groups.keys()\n",
        "    for timeframe in tqdm(timestamp_keys):\n",
        "        cur_t = timeframe\n",
        "        curr_df = time_df.get_group(timeframe)        \n",
        "        curr_df.apply(lambda row: getRowInfo(row, anom_score,cur_count,total_count,cur_t), axis=1)\n",
        "        cur_count.clear()\n",
        "    return anom_score\n",
        "\n",
        "\n",
        "def midasR(src, dst, times, num_rows, num_buckets, factor):\n",
        "    m = np.max(src)\n",
        "    num_entries = src.shape[0]\n",
        "    cur_count = Edgehash(num_rows, num_buckets, m)\n",
        "    total_count = Edgehash(num_rows, num_buckets, m)\n",
        "    src_score = Nodehash(num_rows, num_buckets)\n",
        "    dst_score = Nodehash(num_rows, num_buckets)\n",
        "    src_total = Nodehash(num_rows, num_buckets)\n",
        "    dst_total = Nodehash(num_rows, num_buckets)\n",
        "    anom_score = np.zeros(num_entries)\n",
        "    cur_t = 1\n",
        "\n",
        "    for i in range(num_entries):\n",
        "        if i == 0 or times[i] > cur_t:\n",
        "            cur_count.lower(factor)\n",
        "            src_score.lower(factor)\n",
        "            dst_score.lower(factor)\n",
        "            cur_t = times[i]\n",
        "\n",
        "        cur_src = src[i]\n",
        "        cur_dst = dst[i]\n",
        "        cur_count.insert(cur_src, cur_dst, 1)\n",
        "        total_count.insert(cur_src, cur_dst, 1)\n",
        "        src_score.insert(cur_src, 1)\n",
        "        dst_score.insert(cur_dst, 1)\n",
        "        src_total.insert(cur_src, 1)\n",
        "        dst_total.insert(cur_dst, 1)\n",
        "\n",
        "        cur_score = counts_to_anom(\n",
        "            total_count.get_count(cur_src, cur_dst),\n",
        "            cur_count.get_count(cur_src, cur_dst),\n",
        "            cur_t,\n",
        "        )\n",
        "        cur_score_src = counts_to_anom(\n",
        "            src_total.get_count(cur_src), src_score.get_count(cur_src), cur_t\n",
        "        )\n",
        "        cur_score_dst = counts_to_anom(\n",
        "            dst_total.get_count(cur_dst), dst_score.get_count(cur_dst), cur_t\n",
        "        )\n",
        "        combined_score = max(cur_score_src, cur_score_dst, cur_score)\n",
        "        anom_score[i] = np.log(1 + combined_score)\n",
        "\n",
        "    return anom_score"
      ],
      "metadata": {
        "id": "f7jUHDWC8WAa"
      },
      "execution_count": 14,
      "outputs": []
    },
    {
      "cell_type": "code",
      "source": [
        "import numpy as np\n",
        "\n",
        "\n",
        "class Edgehash:\n",
        "    def __init__(self, r, b, m0):\n",
        "        self.num_rows = r\n",
        "        self.num_buckets = b\n",
        "        self.m = m0\n",
        "        self.hash_a = np.random.randint(low=1, high=b, size=r)\n",
        "        self.hash_b = np.random.randint(low=0, high=b, size=r)\n",
        "        self.count = np.zeros((self.num_rows, self.num_buckets))\n",
        "\n",
        "    def hash(self, a, b, i):\n",
        "        resid = ((a + self.m * b) * self.hash_a[i] + self.hash_b[i]) % self.num_buckets\n",
        "        return resid + (self.num_buckets if (resid < 0) else 0)\n",
        "\n",
        "    def insert(self, a, b, weight):\n",
        "        for i in range(self.num_rows):\n",
        "            bucket = self.hash(a, b, i)\n",
        "            self.count[i][bucket] += weight\n",
        "\n",
        "    def get_count(self, a, b):\n",
        "        bucket = self.hash(a, b, 0)\n",
        "        min_count = self.count[0][bucket]\n",
        "        for i in range(1, self.num_rows):\n",
        "            bucket = self.hash(a, b, i)\n",
        "            min_count = min(min_count, self.count[i][bucket])\n",
        "\n",
        "        return min_count\n",
        "\n",
        "    def clear(self):\n",
        "        self.count = np.zeros((self.num_rows, self.num_buckets))\n",
        "\n",
        "    def lower(self, factor):\n",
        "        self.count = self.count * factor"
      ],
      "metadata": {
        "id": "Z6sEtZoY8Ztd"
      },
      "execution_count": 15,
      "outputs": []
    },
    {
      "cell_type": "code",
      "source": [
        "import numpy as np\n",
        "\n",
        "\n",
        "class Nodehash:\n",
        "    def __init__(self, r, b):\n",
        "        self.num_rows = r\n",
        "        self.num_buckets = b\n",
        "        self.hash_a = np.random.randint(low=1, high=b, size=r)\n",
        "        self.hash_b = np.random.randint(low=0, high=b, size=r)\n",
        "        self.count = np.zeros((self.num_rows, self.num_buckets))\n",
        "\n",
        "    def hash(self, a, i):\n",
        "        resid = (a * self.hash_a[i] + self.hash_b[i]) % self.num_buckets\n",
        "        return resid + (self.num_buckets if (resid < 0) else 0)\n",
        "\n",
        "    def insert(self, a, weight):\n",
        "        for i in range(self.num_rows):\n",
        "            bucket = self.hash(a, i)\n",
        "            self.count[i][bucket] += weight\n",
        "\n",
        "    def get_count(self, a):\n",
        "        bucket = self.hash(a, 0)\n",
        "        min_count = self.count[0][bucket]\n",
        "        for i in range(1, self.num_rows):\n",
        "            bucket = self.hash(a, i)\n",
        "            min_count = min(min_count, self.count[i][bucket])\n",
        "\n",
        "        return min_count\n",
        "\n",
        "    def clear(self):\n",
        "        self.count = np.zeros((self.num_rows, self.num_buckets))\n",
        "\n",
        "    def lower(self, factor):\n",
        "        self.count = self.count * factor"
      ],
      "metadata": {
        "id": "Frn2O9sp8hBJ"
      },
      "execution_count": 16,
      "outputs": []
    }
  ]
}